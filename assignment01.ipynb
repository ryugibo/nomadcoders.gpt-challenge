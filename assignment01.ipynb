{
 "cells": [
  {
   "cell_type": "code",
   "execution_count": 1,
   "metadata": {},
   "outputs": [],
   "source": [
    "from langchain.chat_models import ChatOpenAI\n",
    "from langchain.prompts import ChatPromptTemplate\n",
    "from langchain.callbacks import StreamingStdOutCallbackHandler\n",
    "\n",
    "chat = ChatOpenAI(\n",
    "    model_name=\"gpt-4o-mini\",\n",
    "    temperature=0.1,\n",
    "    streaming=True,\n",
    "    callbacks=[\n",
    "        StreamingStdOutCallbackHandler(),\n",
    "    ]\n",
    ")"
   ]
  },
  {
   "cell_type": "code",
   "execution_count": 27,
   "metadata": {},
   "outputs": [],
   "source": [
    "# 프로그래밍 언어에 대한 시를 쓰는 체인\n",
    "\n",
    "poet_prompt = ChatPromptTemplate.from_messages([\n",
    "    (\"system\", \"당신은 프로그래밍 언어에 대한 시를 쓰는 시인입니다. 항상 5행짜리 짧은 시를 써주세요.\"),\n",
    "    (\"human\", \"{프로그래밍_언어}라는 프로그래밍 언어에 대한 시를 써주세요.\")\n",
    "])\n",
    "poet_chain = poet_prompt | chat"
   ]
  },
  {
   "cell_type": "code",
   "execution_count": 28,
   "metadata": {},
   "outputs": [],
   "source": [
    "# 시에 대해서 설명하는 체인\n",
    "reviewer_prompt = ChatPromptTemplate.from_messages([\n",
    "    (\"system\", \"시를 이해하고 설명하는 사람입니다.\"),\n",
    "    (\"human\", \"다음 시에 대한 내용을 설명을 시 본문과 함께 알려주세요. {시}\")\n",
    "])\n",
    "reviewer_chain = reviewer_prompt | chat"
   ]
  },
  {
   "cell_type": "code",
   "execution_count": 29,
   "metadata": {},
   "outputs": [
    {
     "name": "stdout",
     "output_type": "stream",
     "text": [
      "코드의 흐름, 간결한 미소,  \n",
      "들여쓰기 속에 숨은 깊은 뜻,  \n",
      "모듈과 라이브러리, 무한한 힘,  \n",
      "데이터를 다루는 마법의 손길,  \n",
      "Python, 나의 창조의 시작점.이 시는 프로그래밍 언어인 Python에 대한 찬사를 담고 있습니다. 각 구절은 Python의 특징과 그로 인해 창조할 수 있는 가능성을 표현하고 있습니다. 아래에 시 본문과 함께 각 구절의 의미를 설명하겠습니다.\n",
      "\n",
      "### 시 본문\n",
      "```\n",
      "코드의 흐름, 간결한 미소,  \n",
      "들여쓰기 속에 숨은 깊은 뜻,  \n",
      "모듈과 라이브러리, 무한한 힘,  \n",
      "데이터를 다루는 마법의 손길,  \n",
      "Python, 나의 창조의 시작점.\n",
      "```\n",
      "\n",
      "### 내용 설명\n",
      "\n",
      "1. **\"코드의 흐름, 간결한 미소,\"**\n",
      "   - 이 구절은 Python 코드의 간결함과 가독성을 강조합니다. Python은 다른 프로그래밍 언어에 비해 문법이 간단하고 직관적이어서, 코드가 마치 흐르는 듯한 느낌을 줍니다. '간결한 미소'는 이러한 코드의 아름다움을 나타냅니다.\n",
      "\n",
      "2. **\"들여쓰기 속에 숨은 깊은 뜻,\"**\n",
      "   - Python은 코드 블록을 들여쓰기로 구분합니다. 이 구절은 들여쓰기가 단순한 형식적 요소가 아니라, 코드의 구조와 의미를 명확히 하는 중요한 역할을 한다는 것을 암시합니다. 즉, 들여쓰기를 통해 코드의 논리와 흐름을 이해할 수 있다는 뜻입니다.\n",
      "\n",
      "3. **\"모듈과 라이브러리, 무한한 힘,\"**\n",
      "   - Python은 다양한 모듈과 라이브러리를 제공하여 개발자들이 복잡한 작업을 쉽게 수행할 수 있도록 돕습니다. 이 구절은 이러한 도구들이 개발자에게 무한한 가능성을 열어준다는 것을 강조합니다.\n",
      "\n",
      "4. **\"데이터를 다루는 마법의 손길,\"**\n",
      "   - Python은 데이터 과학, 머신러닝 등 데이터 처리에 강력한 기능을 제공합니다. 이 구절은 Python을 사용하여 데이터를 다루는 것이 마치 마법처럼 느껴진다는 것을 표현합니다. 데이터 분석과 처리의 용이함을 강조하고 있습니다.\n",
      "\n",
      "5. **\"Python, 나의 창조의 시작점.\"**\n",
      "   - 마지막 구절은 Python이 시인의 창조적 작업의 출발점이라는 것을 나타냅니다. Python을 통해 새로운 아이디어와 프로젝트를 시작할 수 있다는 점에서, 이 언어가 시인에게 중요한 역할을 한다는 의미를 담고 있습니다.\n",
      "\n",
      "### 종합\n",
      "이 시는 Python 프로그래밍 언어의 매력과 가능성을 찬양하며, 프로그래밍을 통해 창조적인 작업을 할 수 있는 기회를 제공하는 언어로서의 Python의 중요성을 강조합니다."
     ]
    },
    {
     "data": {
      "text/plain": [
       "AIMessageChunk(content='이 시는 프로그래밍 언어인 Python에 대한 찬사를 담고 있습니다. 각 구절은 Python의 특징과 그로 인해 창조할 수 있는 가능성을 표현하고 있습니다. 아래에 시 본문과 함께 각 구절의 의미를 설명하겠습니다.\\n\\n### 시 본문\\n```\\n코드의 흐름, 간결한 미소,  \\n들여쓰기 속에 숨은 깊은 뜻,  \\n모듈과 라이브러리, 무한한 힘,  \\n데이터를 다루는 마법의 손길,  \\nPython, 나의 창조의 시작점.\\n```\\n\\n### 내용 설명\\n\\n1. **\"코드의 흐름, 간결한 미소,\"**\\n   - 이 구절은 Python 코드의 간결함과 가독성을 강조합니다. Python은 다른 프로그래밍 언어에 비해 문법이 간단하고 직관적이어서, 코드가 마치 흐르는 듯한 느낌을 줍니다. \\'간결한 미소\\'는 이러한 코드의 아름다움을 나타냅니다.\\n\\n2. **\"들여쓰기 속에 숨은 깊은 뜻,\"**\\n   - Python은 코드 블록을 들여쓰기로 구분합니다. 이 구절은 들여쓰기가 단순한 형식적 요소가 아니라, 코드의 구조와 의미를 명확히 하는 중요한 역할을 한다는 것을 암시합니다. 즉, 들여쓰기를 통해 코드의 논리와 흐름을 이해할 수 있다는 뜻입니다.\\n\\n3. **\"모듈과 라이브러리, 무한한 힘,\"**\\n   - Python은 다양한 모듈과 라이브러리를 제공하여 개발자들이 복잡한 작업을 쉽게 수행할 수 있도록 돕습니다. 이 구절은 이러한 도구들이 개발자에게 무한한 가능성을 열어준다는 것을 강조합니다.\\n\\n4. **\"데이터를 다루는 마법의 손길,\"**\\n   - Python은 데이터 과학, 머신러닝 등 데이터 처리에 강력한 기능을 제공합니다. 이 구절은 Python을 사용하여 데이터를 다루는 것이 마치 마법처럼 느껴진다는 것을 표현합니다. 데이터 분석과 처리의 용이함을 강조하고 있습니다.\\n\\n5. **\"Python, 나의 창조의 시작점.\"**\\n   - 마지막 구절은 Python이 시인의 창조적 작업의 출발점이라는 것을 나타냅니다. Python을 통해 새로운 아이디어와 프로젝트를 시작할 수 있다는 점에서, 이 언어가 시인에게 중요한 역할을 한다는 의미를 담고 있습니다.\\n\\n### 종합\\n이 시는 Python 프로그래밍 언어의 매력과 가능성을 찬양하며, 프로그래밍을 통해 창조적인 작업을 할 수 있는 기회를 제공하는 언어로서의 Python의 중요성을 강조합니다.')"
      ]
     },
     "execution_count": 29,
     "metadata": {},
     "output_type": "execute_result"
    }
   ],
   "source": [
    "final_chain = {\"시\": poet_chain} | reviewer_chain\n",
    "final_chain.invoke({\"프로그래밍_언어\": \"Python\"})"
   ]
  }
 ],
 "metadata": {
  "kernelspec": {
   "display_name": ".venv",
   "language": "python",
   "name": "python3"
  },
  "language_info": {
   "codemirror_mode": {
    "name": "ipython",
    "version": 3
   },
   "file_extension": ".py",
   "mimetype": "text/x-python",
   "name": "python",
   "nbconvert_exporter": "python",
   "pygments_lexer": "ipython3",
   "version": "3.11.11"
  }
 },
 "nbformat": 4,
 "nbformat_minor": 2
}
